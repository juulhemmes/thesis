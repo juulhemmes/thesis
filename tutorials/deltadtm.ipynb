{
 "cells": [
  {
   "cell_type": "markdown",
   "id": "0",
   "metadata": {},
   "source": [
    "# DeltaDTM\n",
    "\n",
    "A global coastal digital terrain model, based on CopernicusDEM, ESA WorldCover, ICESat-2 and GEDI data. For more information, see [Pronk et al. (2024)](https://www.nature.com/articles/s41597-024-03091-9) DeltaDTM: A global coastal digital terrain model. "
   ]
  },
  {
   "cell_type": "code",
   "execution_count": null,
   "id": "1",
   "metadata": {},
   "outputs": [],
   "source": [
    "import fsspec\n",
    "import geopandas as gpd\n",
    "import hvplot.xarray\n",
    "import pystac\n",
    "import rioxarray\n",
    "import shapely\n",
    "import xarray as xr\n",
    "from ipyleaflet import Map, basemaps"
   ]
  },
  {
   "cell_type": "markdown",
   "id": "2",
   "metadata": {},
   "source": [
    "## Read a snapshot with the spatial extents of all tiles\n",
    "\n",
    "Connect to the CoCliCo STAC and read the spatial extents using stac-geoparquet."
   ]
  },
  {
   "cell_type": "code",
   "execution_count": null,
   "id": "3",
   "metadata": {},
   "outputs": [],
   "source": [
    "from coastpy.stac.utils import read_snapshot\n",
    "\n",
    "coclico_catalog = pystac.Catalog.from_file(\n",
    "    \"https://coclico.blob.core.windows.net/stac/v1/catalog.json\"\n",
    ")\n",
    "\n",
    "ddtm_collection = coclico_catalog.get_child(\"deltares-delta-dtm\")\n",
    "\n",
    "storage_options = ddtm_collection.extra_fields[\"item_assets\"][\"data\"][\n",
    "    \"xarray:storage_options\"\n",
    "]\n",
    "\n",
    "ddtm_extents = read_snapshot(\n",
    "    ddtm_collection,\n",
    "    columns=[\"geometry\", \"assets\"],\n",
    "    add_href=True,\n",
    "    storage_options=storage_options,\n",
    ")\n",
    "\n",
    "ddtm_extents.head()"
   ]
  },
  {
   "cell_type": "markdown",
   "id": "4",
   "metadata": {},
   "source": [
    "## Zoom to your area of interest"
   ]
  },
  {
   "cell_type": "code",
   "execution_count": null,
   "id": "5",
   "metadata": {},
   "outputs": [],
   "source": [
    "m = Map(basemap=basemaps.Esri.WorldImagery, scroll_wheel_zoom=True)\n",
    "m.center = 15.827, -95.96\n",
    "m.zoom = 15\n",
    "m.layout.height = \"800px\"\n",
    "m"
   ]
  },
  {
   "cell_type": "code",
   "execution_count": null,
   "id": "6",
   "metadata": {},
   "outputs": [],
   "source": [
    "west, south, east, north = m.west, m.south, m.east, m.north\n",
    "# Note: small little hack to ensure the notebook also works when running all cells at once\n",
    "if not west:\n",
    "    west, south, east, north = (\n",
    "        30.28415679931641,\n",
    "        31.276790311057272,\n",
    "        30.630912780761722,\n",
    "        31.51123970051334,\n",
    "    )\n",
    "roi = gpd.GeoDataFrame(\n",
    "    geometry=[shapely.geometry.box(west, south, east, north)], crs=4326\n",
    ")"
   ]
  },
  {
   "cell_type": "markdown",
   "id": "7",
   "metadata": {},
   "source": [
    "## Find the tiles for your region of interest"
   ]
  },
  {
   "cell_type": "code",
   "execution_count": null,
   "id": "8",
   "metadata": {},
   "outputs": [],
   "source": [
    "hrefs = gpd.sjoin(ddtm_extents, roi).href.to_list()\n",
    "href = hrefs[0]"
   ]
  },
  {
   "cell_type": "markdown",
   "id": "9",
   "metadata": {},
   "source": [
    "## Read data"
   ]
  },
  {
   "cell_type": "code",
   "execution_count": null,
   "id": "10",
   "metadata": {},
   "outputs": [],
   "source": [
    "fs = fsspec.filesystem(\"az\", **storage_options)\n",
    "with fs.open(href, \"rb\") as f:\n",
    "    da = (\n",
    "        rioxarray.open_rasterio(f, chunks={}, lock=False)\n",
    "        .squeeze()\n",
    "        .drop_vars(\"band\")\n",
    "        .compute()\n",
    "    )"
   ]
  },
  {
   "cell_type": "code",
   "execution_count": null,
   "id": "11",
   "metadata": {},
   "outputs": [],
   "source": [
    "da.where(lambda xx: xx != xx.attrs[\"_FillValue\"]).hvplot(\n",
    "    x=\"x\", y=\"y\", geo=True, tiles=\"ESRI\"\n",
    ")"
   ]
  },
  {
   "cell_type": "code",
   "execution_count": null,
   "id": "12",
   "metadata": {},
   "outputs": [],
   "source": [
    "def search_deltadtm_items(\n",
    "    roi: gpd.GeoDataFrame,\n",
    ") -> list[pystac.Item]:\n",
    "    \"\"\"\n",
    "    Search for DeltaDTM items based on a region of interest.\n",
    "\n",
    "    Args:\n",
    "        roi (gpd.GeoDataFrame): Region of interest as a GeoDataFrame.\n",
    "\n",
    "    Returns:\n",
    "        List[pystac.Item]: List of STAC items that match the search criteria.\n",
    "\n",
    "    Example:\n",
    "        >>> roi = gpd.read_file(\"path_to_roi.geojson\")\n",
    "        >>> items = search_deltadtm_items(roi)\n",
    "    \"\"\"\n",
    "\n",
    "    from coastpy.stac.utils import read_snapshot\n",
    "\n",
    "    coclico_catalog = pystac.Catalog.from_file(\n",
    "        \"https://coclico.blob.core.windows.net/stac/v1/catalog.json\"\n",
    "    )\n",
    "\n",
    "    ddtm_collection = coclico_catalog.get_child(\"deltares-delta-dtm\")\n",
    "\n",
    "    storage_options = ddtm_collection.extra_fields[\"item_assets\"][\"data\"][\n",
    "        \"xarray:storage_options\"\n",
    "    ]\n",
    "\n",
    "    ddtm_extents = read_snapshot(\n",
    "        ddtm_collection,\n",
    "        columns=[\"id\", \"geometry\", \"assets\", \"href\"],\n",
    "        storage_options=storage_options,\n",
    "    )\n",
    "    return gpd.sjoin(ddtm_extents, roi).drop(columns=\"index_right\")"
   ]
  },
  {
   "cell_type": "code",
   "execution_count": null,
   "id": "13",
   "metadata": {},
   "outputs": [],
   "source": [
    "import pyarrow as pa\n",
    "\n",
    "pa.Table.from_pandas(stac_table)"
   ]
  },
  {
   "cell_type": "code",
   "execution_count": null,
   "id": "14",
   "metadata": {},
   "outputs": [],
   "source": [
    "stac_table = search_deltadtm_items(roi)\n",
    "print(type(stac_table))\n",
    "print(stac_table.columns)\n",
    "print(stac_table)"
   ]
  },
  {
   "cell_type": "code",
   "execution_count": null,
   "id": "15",
   "metadata": {},
   "outputs": [],
   "source": []
  },
  {
   "cell_type": "code",
   "execution_count": null,
   "id": "16",
   "metadata": {},
   "outputs": [],
   "source": [
    "import stac_geoparquet\n",
    "\n",
    "stac_geoparquet.to_item_collection(stac_table)"
   ]
  },
  {
   "cell_type": "code",
   "execution_count": null,
   "id": "17",
   "metadata": {},
   "outputs": [],
   "source": [
    "def load_dem_from_items(\n",
    "    items: list[pystac.Item],\n",
    "    region_of_interest: gpd.GeoDataFrame,\n",
    "    resampling: str | dict[str, str] | None = None,\n",
    "    dtype: np.dtype | str | None = None,\n",
    "    chunks: dict | None = None,\n",
    "    crs: str | int | None = None,\n",
    "    resolution: float | int | None = None,\n",
    "    fail_on_error: bool = True,\n",
    "    progress: bool | None = None,\n",
    ") -> xr.Dataset:\n",
    "    \"\"\"\n",
    "    Load DEM data from provided STAC items with flexibility for processing options.\n",
    "\n",
    "    Args:\n",
    "        items (List[pystac.Item]): STAC items to load data from.\n",
    "        region_of_interest (gpd.GeoDataFrame): Region of interest as a GeoDataFrame.\n",
    "        resampling (Optional[Union[str, Dict[str, str]]]): Resampling strategy. Default is \"nearest\".\n",
    "        dtype (Optional[Union[np.dtype, str]]): Output data type. Default is \"float32\".\n",
    "        chunks (Optional[Dict[str, Union[int, str]]]): Dask chunks for parallel loading. Default is None.\n",
    "        crs (Optional[Union[str, int]]): CRS for loading. Default is \"utm\".\n",
    "        resolution (Optional[Union[float, int]]): Spatial resolution of output. Default is 30.\n",
    "        fail_on_error (bool): Skip over load failures if set to False. Default is True.\n",
    "        progress (Optional[Any]): Progress bar or similar for non-Dask load. Default is None.\n",
    "\n",
    "    Returns:\n",
    "        xr.Dataset: Dataset containing the DEM data.\n",
    "\n",
    "    Example:\n",
    "        >>> items = [pystac.Item.from_file(\"path_to_item.json\")]\n",
    "        >>> roi = gpd.read_file(\"path_to_roi.geojson\")\n",
    "        >>> dem_data = load_dem_from_items(items, roi)\n",
    "    \"\"\"\n",
    "\n",
    "    # STAC configuration for data loading\n",
    "    STAC_CONFIG = {\n",
    "        \"cop-dem-glo-30\": {\"assets\": {\"*\": {\"data_type\": dtype, \"nodata\": np.nan}}},\n",
    "    }\n",
    "\n",
    "    # Bounding box of the region of interest in EPSG:4326\n",
    "    bbox = tuple(region_of_interest.to_crs(4326).bounds.iloc[0].values)\n",
    "\n",
    "    # Load data using odc.stac.load with enhanced parameters\n",
    "    ds = odc.stac.load(\n",
    "        items,\n",
    "        bbox=bbox,\n",
    "        chunks=chunks,\n",
    "        stac_cfg=STAC_CONFIG,\n",
    "        patch_url=pc.sign,  # Placeholder, replace with actual function if needed\n",
    "        resampling=resampling,\n",
    "        crs=crs,\n",
    "        resolution=resolution,\n",
    "        fail_on_error=fail_on_error,\n",
    "        progress=progress,\n",
    "    ).squeeze()\n",
    "\n",
    "    return d"
   ]
  },
  {
   "cell_type": "code",
   "execution_count": null,
   "id": "18",
   "metadata": {},
   "outputs": [],
   "source": [
    "stac_geoparquet.from_arrow"
   ]
  }
 ],
 "metadata": {
  "kernelspec": {
   "display_name": "Python [conda env:coastal-full] *",
   "language": "python",
   "name": "conda-env-coastal-full-py"
  },
  "language_info": {
   "codemirror_mode": {
    "name": "ipython",
    "version": 3
   },
   "file_extension": ".py",
   "mimetype": "text/x-python",
   "name": "python",
   "nbconvert_exporter": "python",
   "pygments_lexer": "ipython3",
   "version": "3.12.7"
  }
 },
 "nbformat": 4,
 "nbformat_minor": 5
}
