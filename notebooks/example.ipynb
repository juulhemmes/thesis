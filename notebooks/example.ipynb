{
 "cells": [
  {
   "cell_type": "markdown",
   "id": "fa33a9ce-c5ee-455d-85d8-b75f2a44ee31",
   "metadata": {},
   "source": [
    "# Slippy tile boxes\n",
    "\n",
    "Generate dynamic box systemn which can be used to parallelize large scale geospatial calculations "
   ]
  },
  {
   "cell_type": "code",
   "execution_count": 1,
   "id": "241c25cd-7a92-4123-b7ad-26468459bf49",
   "metadata": {},
   "outputs": [],
   "source": [
    "# Use the black code formatter\n",
    "%load_ext lab_black"
   ]
  },
  {
   "cell_type": "markdown",
   "id": "7fd0662f-d6ca-4fd2-97fe-3806ff4f90e9",
   "metadata": {},
   "source": [
    "### Configure OS independent paths"
   ]
  },
  {
   "cell_type": "code",
   "execution_count": 2,
   "id": "f151b6d8-923d-4849-a76e-cadf45c61fac",
   "metadata": {},
   "outputs": [],
   "source": [
    "import os\n",
    "import pathlib\n",
    "import sys\n",
    "\n",
    "# Make root directories importable by appending root to path\n",
    "cwd = pathlib.Path().resolve()\n",
    "sys.path.append(os.path.dirname(cwd))\n",
    "sys.path.append(os.path.join(os.path.dirname(cwd), \"src\"))"
   ]
  },
  {
   "cell_type": "code",
   "execution_count": 3,
   "id": "2986a2bd",
   "metadata": {},
   "outputs": [],
   "source": [
    "from src.coastpy.geometries.boxes import make_boxes"
   ]
  },
  {
   "cell_type": "code",
   "execution_count": 4,
   "id": "9a281952-0b5a-4d7a-8c40-52a0103af5a3",
   "metadata": {},
   "outputs": [
    {
     "name": "stdout",
     "output_type": "stream",
     "text": [
      "   box_id                                           geometry\n",
      "0  z7x0y0  POLYGON ((-20037508.343 19724422.275, -1972442...\n",
      "1  z7x0y1  POLYGON ((-20037508.343 19411336.207, -1972442...\n",
      "2  z7x0y2  POLYGON ((-20037508.343 19098250.139, -1972442...\n",
      "3  z7x0y3  POLYGON ((-20037508.343 18785164.071, -1972442...\n",
      "4  z7x0y4  POLYGON ((-20037508.343 18472078.004, -1972442...\n"
     ]
    }
   ],
   "source": [
    "import geopandas as gpd\n",
    "\n",
    "boxes = make_boxes(zoom_level=7, output_crs=\"epsg:3857\")\n",
    "print(boxes.head())"
   ]
  },
  {
   "cell_type": "code",
   "execution_count": null,
   "id": "a4b1bda8",
   "metadata": {},
   "outputs": [],
   "source": []
  }
 ],
 "metadata": {
  "interpreter": {
   "hash": "d52b8dfbdab1c939c3c4b10b0d762f4c8139583e350f28e123ee37db8f80dd50"
  },
  "kernelspec": {
   "display_name": "Python 3.10.4 ('base')",
   "language": "python",
   "name": "python3"
  },
  "language_info": {
   "codemirror_mode": {
    "name": "ipython",
    "version": 3
   },
   "file_extension": ".py",
   "mimetype": "text/x-python",
   "name": "python",
   "nbconvert_exporter": "python",
   "pygments_lexer": "ipython3",
   "version": "3.10.4"
  }
 },
 "nbformat": 4,
 "nbformat_minor": 5
}
